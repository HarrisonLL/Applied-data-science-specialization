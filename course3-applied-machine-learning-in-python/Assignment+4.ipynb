{
 "cells": [
  {
   "cell_type": "markdown",
   "metadata": {},
   "source": [
    "---\n",
    "\n",
    "_You are currently looking at **version 1.1** of this notebook. To download notebooks and datafiles, as well as get help on Jupyter notebooks in the Coursera platform, visit the [Jupyter Notebook FAQ](https://www.coursera.org/learn/python-machine-learning/resources/bANLa) course resource._\n",
    "\n",
    "---"
   ]
  },
  {
   "cell_type": "markdown",
   "metadata": {},
   "source": [
    "## Assignment 4 - Understanding and Predicting Property Maintenance Fines\n",
    "\n",
    "This assignment is based on a data challenge from the Michigan Data Science Team ([MDST](http://midas.umich.edu/mdst/)). \n",
    "\n",
    "The Michigan Data Science Team ([MDST](http://midas.umich.edu/mdst/)) and the Michigan Student Symposium for Interdisciplinary Statistical Sciences ([MSSISS](https://sites.lsa.umich.edu/mssiss/)) have partnered with the City of Detroit to help solve one of the most pressing problems facing Detroit - blight. [Blight violations](http://www.detroitmi.gov/How-Do-I/Report/Blight-Complaint-FAQs) are issued by the city to individuals who allow their properties to remain in a deteriorated condition. Every year, the city of Detroit issues millions of dollars in fines to residents and every year, many of these fines remain unpaid. Enforcing unpaid blight fines is a costly and tedious process, so the city wants to know: how can we increase blight ticket compliance?\n",
    "\n",
    "The first step in answering this question is understanding when and why a resident might fail to comply with a blight ticket. This is where predictive modeling comes in. For this assignment, your task is to predict whether a given blight ticket will be paid on time.\n",
    "\n",
    "All data for this assignment has been provided to us through the [Detroit Open Data Portal](https://data.detroitmi.gov/). **Only the data already included in your Coursera directory can be used for training the model for this assignment.** Nonetheless, we encourage you to look into data from other Detroit datasets to help inform feature creation and model selection. We recommend taking a look at the following related datasets:\n",
    "\n",
    "* [Building Permits](https://data.detroitmi.gov/Property-Parcels/Building-Permits/xw2a-a7tf)\n",
    "* [Trades Permits](https://data.detroitmi.gov/Property-Parcels/Trades-Permits/635b-dsgv)\n",
    "* [Improve Detroit: Submitted Issues](https://data.detroitmi.gov/Government/Improve-Detroit-Submitted-Issues/fwz3-w3yn)\n",
    "* [DPD: Citizen Complaints](https://data.detroitmi.gov/Public-Safety/DPD-Citizen-Complaints-2016/kahe-efs3)\n",
    "* [Parcel Map](https://data.detroitmi.gov/Property-Parcels/Parcel-Map/fxkw-udwf)\n",
    "\n",
    "___\n",
    "\n",
    "We provide you with two data files for use in training and validating your models: train.csv and test.csv. Each row in these two files corresponds to a single blight ticket, and includes information about when, why, and to whom each ticket was issued. The target variable is compliance, which is True if the ticket was paid early, on time, or within one month of the hearing data, False if the ticket was paid after the hearing date or not at all, and Null if the violator was found not responsible. Compliance, as well as a handful of other variables that will not be available at test-time, are only included in train.csv.\n",
    "\n",
    "Note: All tickets where the violators were found not responsible are not considered during evaluation. They are included in the training set as an additional source of data for visualization, and to enable unsupervised and semi-supervised approaches. However, they are not included in the test set.\n",
    "\n",
    "<br>\n",
    "\n",
    "**File descriptions** (Use only this data for training your model!)\n",
    "\n",
    "    readonly/train.csv - the training set (all tickets issued 2004-2011)\n",
    "    readonly/test.csv - the test set (all tickets issued 2012-2016)\n",
    "    readonly/addresses.csv & readonly/latlons.csv - mapping from ticket id to addresses, and from addresses to lat/lon coordinates. \n",
    "     Note: misspelled addresses may be incorrectly geolocated.\n",
    "\n",
    "<br>\n",
    "\n",
    "**Data fields**\n",
    "\n",
    "train.csv & test.csv\n",
    "\n",
    "    ticket_id - unique identifier for tickets\n",
    "    agency_name - Agency that issued the ticket\n",
    "    inspector_name - Name of inspector that issued the ticket\n",
    "    violator_name - Name of the person/organization that the ticket was issued to\n",
    "    violation_street_number, violation_street_name, violation_zip_code - Address where the violation occurred\n",
    "    mailing_address_str_number, mailing_address_str_name, city, state, zip_code, non_us_str_code, country - Mailing address of the violator\n",
    "    ticket_issued_date - Date and time the ticket was issued\n",
    "    hearing_date - Date and time the violator's hearing was scheduled\n",
    "    violation_code, violation_description - Type of violation\n",
    "    disposition - Judgment and judgement type\n",
    "    fine_amount - Violation fine amount, excluding fees\n",
    "    admin_fee - $20 fee assigned to responsible judgments\n",
    "state_fee - $10 fee assigned to responsible judgments\n",
    "    late_fee - 10% fee assigned to responsible judgments\n",
    "    discount_amount - discount applied, if any\n",
    "    clean_up_cost - DPW clean-up or graffiti removal cost\n",
    "    judgment_amount - Sum of all fines and fees\n",
    "    grafitti_status - Flag for graffiti violations\n",
    "    \n",
    "train.csv only\n",
    "\n",
    "    payment_amount - Amount paid, if any\n",
    "    payment_date - Date payment was made, if it was received\n",
    "    payment_status - Current payment status as of Feb 1 2017\n",
    "    balance_due - Fines and fees still owed\n",
    "    collection_status - Flag for payments in collections\n",
    "    compliance [target variable for prediction] \n",
    "     Null = Not responsible\n",
    "     0 = Responsible, non-compliant\n",
    "     1 = Responsible, compliant\n",
    "    compliance_detail - More information on why each ticket was marked compliant or non-compliant\n",
    "\n",
    "\n",
    "___\n",
    "\n",
    "## Evaluation\n",
    "\n",
    "Your predictions will be given as the probability that the corresponding blight ticket will be paid on time.\n",
    "\n",
    "The evaluation metric for this assignment is the Area Under the ROC Curve (AUC). \n",
    "\n",
    "Your grade will be based on the AUC score computed for your classifier. A model which with an AUROC of 0.7 passes this assignment, over 0.75 will recieve full points.\n",
    "___\n",
    "\n",
    "For this assignment, create a function that trains a model to predict blight ticket compliance in Detroit using `readonly/train.csv`. Using this model, return a series of length 61001 with the data being the probability that each corresponding ticket from `readonly/test.csv` will be paid, and the index being the ticket_id.\n",
    "\n",
    "Example:\n",
    "\n",
    "    ticket_id\n",
    "       284932    0.531842\n",
    "       285362    0.401958\n",
    "       285361    0.105928\n",
    "       285338    0.018572\n",
    "                 ...\n",
    "       376499    0.208567\n",
    "       376500    0.818759\n",
    "       369851    0.018528\n",
    "       Name: compliance, dtype: float32\n",
    "       \n",
    "### Hints\n",
    "\n",
    "* Make sure your code is working before submitting it to the autograder.\n",
    "\n",
    "* Print out your result to see whether there is anything weird (e.g., all probabilities are the same).\n",
    "\n",
    "* Generally the total runtime should be less than 10 mins. You should NOT use Neural Network related classifiers (e.g., MLPClassifier) in this question. \n",
    "\n",
    "* Try to avoid global variables. If you have other functions besides blight_model, you should move those functions inside the scope of blight_model.\n",
    "\n",
    "* Refer to the pinned threads in Week 4's discussion forum when there is something you could not figure it out."
   ]
  },
  {
   "cell_type": "code",
   "execution_count": null,
   "metadata": {
    "collapsed": false
   },
   "outputs": [],
   "source": []
  },
  {
   "cell_type": "code",
   "execution_count": null,
   "metadata": {
    "collapsed": false
   },
   "outputs": [],
   "source": []
  },
  {
   "cell_type": "code",
   "execution_count": null,
   "metadata": {
    "collapsed": false
   },
   "outputs": [],
   "source": []
  },
  {
   "cell_type": "code",
   "execution_count": null,
   "metadata": {
    "collapsed": false
   },
   "outputs": [],
   "source": []
  },
  {
   "cell_type": "code",
   "execution_count": 37,
   "metadata": {
    "collapsed": false
   },
   "outputs": [],
   "source": [
    "import pandas as pd\n",
    "import numpy as np\n",
    "from sklearn.ensemble import RandomForestClassifier\n",
    "from sklearn.model_selection import train_test_split\n",
    "from sklearn.model_selection import GridSearchCV\n",
    "from sklearn.metrics import confusion_matrix as cm"
   ]
  },
  {
   "cell_type": "code",
   "execution_count": 38,
   "metadata": {
    "collapsed": false
   },
   "outputs": [
    {
     "name": "stderr",
     "output_type": "stream",
     "text": [
      "/opt/conda/lib/python3.6/site-packages/IPython/core/interactiveshell.py:2717: DtypeWarning: Columns (11,12,31) have mixed types. Specify dtype option on import or set low_memory=False.\n",
      "  interactivity=interactivity, compiler=compiler, result=result)\n"
     ]
    },
    {
     "name": "stdout",
     "output_type": "stream",
     "text": [
      "Responsible by Default                138340\n",
      "Responsible by Admission               13701\n",
      "Responsible by Determination            7644\n",
      "Responsible (Fine Waived) by Deter       195\n",
      "Name: disposition, dtype: int64\n"
     ]
    }
   ],
   "source": [
    "train = pd.read_csv('readonly/train.csv', encoding = \"ISO-8859-1\")\n",
    "train = train[train['compliance'].notnull()]\n",
    "print(train['disposition'].value_counts())"
   ]
  },
  {
   "cell_type": "code",
   "execution_count": 39,
   "metadata": {
    "collapsed": false
   },
   "outputs": [
    {
     "name": "stdout",
     "output_type": "stream",
     "text": [
      "Responsible by Default                51602\n",
      "Responsible by Admission               4484\n",
      "Responsible by Determination           4124\n",
      "Responsible (Fine Waived) by Deter      781\n",
      "Responsible - Compl/Adj by Default        6\n",
      "Responsible - Compl/Adj by Determi        2\n",
      "Responsible (Fine Waived) by Admis        1\n",
      "Responsible by Dismissal                  1\n",
      "Name: disposition, dtype: int64\n"
     ]
    }
   ],
   "source": [
    "test = pd.read_csv('readonly/test.csv', encoding = \"ISO-8859-1\")\n",
    "print(test['disposition'].value_counts())"
   ]
  },
  {
   "cell_type": "code",
   "execution_count": 40,
   "metadata": {
    "collapsed": false
   },
   "outputs": [],
   "source": [
    "## data preprocessing \n",
    "\n",
    "## one hot encoding \n",
    "subset = pd.get_dummies(train.disposition, prefix='disposition')\n",
    "train = pd.merge(train, subset, left_index=True, right_index=True)\n",
    "\n",
    "latlons = pd.read_csv('readonly/latlons.csv')\n",
    "addresses = pd.read_csv('readonly/addresses.csv')\n",
    "geo = pd.merge(addresses[['ticket_id', 'address']], latlons[['lat', 'lon', 'address']], how='inner', on='address')\n",
    "## merge with geo data\n",
    "df = pd.merge(train, geo, how = 'inner', on='ticket_id' )\n",
    "\n",
    "features_label = ['fine_amount', 'admin_fee', 'state_fee', 'late_fee', 'judgment_amount', 'lat', 'lon', 'disposition_Responsible (Fine Waived) by Deter','disposition_Responsible by Admission','disposition_Responsible by Default','disposition_Responsible by Determination','compliance']\n",
    "features = ['fine_amount', 'admin_fee', 'state_fee', 'late_fee', 'judgment_amount', 'lat', 'lon', 'disposition_Responsible (Fine Waived) by Deter','disposition_Responsible by Admission','disposition_Responsible by Default','disposition_Responsible by Determination']\n",
    "added_features = ['disposition_Responsible - Compl/Adj by Default', 'disposition_Responsible - Compl/Adj by Determi', 'disposition_Responsible by Dismissal', 'disposition_Responsible (Fine Waived) by Admis']\n",
    "\n",
    "\n",
    "df = df[features_label]\n",
    "## forward fill na lat and lon values \n",
    "df['lat'] = df['lat'].fillna(method = 'ffill') \n",
    "df['lon'] = df['lon'].fillna(method = 'ffill') \n",
    "X = df[features]\n",
    "for f in added_features:\n",
    "    X[f] = np.zeros(len(X), dtype = 'uint8')\n",
    "y = df['compliance']\n",
    "X_train, X_test, y_train, y_test = train_test_split(X, y, random_state = 0)"
   ]
  },
  {
   "cell_type": "code",
   "execution_count": 41,
   "metadata": {
    "collapsed": false
   },
   "outputs": [],
   "source": [
    "## model testing and validation \n",
    "## grid search \n",
    "\n",
    "# rfc = RandomForestClassifier(random_state=42)\n",
    "# param_grid = { \n",
    "#     'n_estimators': [70,80,100],\n",
    "#     'max_features': ['auto', 'sqrt', 'log2'],\n",
    "#     'max_depth' : [14,15, None],\n",
    "#     'criterion' :['gini', 'entropy']\n",
    "# }\n",
    "\n",
    "# CV_rfc = GridSearchCV(estimator=rfc, param_grid=param_grid, cv= 3)\n",
    "# CV_rfc.fit(X_train, y_train)\n",
    "# CV_rfc.best_params_\n"
   ]
  },
  {
   "cell_type": "code",
   "execution_count": 42,
   "metadata": {
    "collapsed": false
   },
   "outputs": [
    {
     "name": "stdout",
     "output_type": "stream",
     "text": [
      "[[36396   682]\n",
      " [ 2002   890]]\n",
      "36396 682 2002 890\n",
      "0.932849637228\n"
     ]
    }
   ],
   "source": [
    "clf = RandomForestClassifier(n_estimators = 100).fit(X_train, y_train)\n",
    "predict = clf.predict(X_test)\n",
    "tn, fp, fn, tp = cm(y_test,predict).ravel()\n",
    "print(cm(y_test, predict))\n",
    "print(tn, fp, fn, tp)\n",
    "print(clf.score(X_test, y_test))"
   ]
  },
  {
   "cell_type": "code",
   "execution_count": 43,
   "metadata": {
    "collapsed": false
   },
   "outputs": [
    {
     "name": "stdout",
     "output_type": "stream",
     "text": [
      "AUC: 0.801\n"
     ]
    },
    {
     "data": {
      "image/png": "[encoded data removed]",
      "text/plain": [
       "<matplotlib.figure.Figure at 0x7f92aec8bd68>"
      ]
     },
     "metadata": {},
     "output_type": "display_data"
    }
   ],
   "source": [
    "# plot ROC curve\n",
    "from sklearn.metrics import roc_curve\n",
    "from sklearn.metrics import roc_auc_score\n",
    "from matplotlib import pyplot\n",
    "\n",
    "probs = clf.predict_proba(X_test)[:,1]\n",
    "auc = roc_auc_score(y_test, probs)\n",
    "print('AUC: %.3f' % auc)\n",
    "fpr, tpr, _ = roc_curve(y_test, probs)\n",
    "pyplot.plot(fpr, tpr, linestyle='--')\n",
    "pyplot.xlabel('False Positive Rate')\n",
    "pyplot.ylabel('True Positive Rate')\n",
    "pyplot.show()\n",
    "\n",
    "\n"
   ]
  },
  {
   "cell_type": "code",
   "execution_count": null,
   "metadata": {
    "collapsed": false
   },
   "outputs": [],
   "source": []
  },
  {
   "cell_type": "code",
   "execution_count": 5,
   "metadata": {
    "collapsed": false
   },
   "outputs": [
    {
     "name": "stderr",
     "output_type": "stream",
     "text": [
      "/opt/conda/lib/python3.6/site-packages/IPython/core/interactiveshell.py:2827: DtypeWarning: Columns (11,12,31) have mixed types. Specify dtype option on import or set low_memory=False.\n",
      "  if self.run_code(code, result):\n"
     ]
    },
    {
     "data": {
      "text/plain": [
       "ticket_id\n",
       "284932    0.020000\n",
       "285362    0.000000\n",
       "285361    0.000000\n",
       "285338    0.130000\n",
       "285346    0.000000\n",
       "285345    0.110000\n",
       "285347    0.021667\n",
       "285342    0.820000\n",
       "285530    0.132667\n",
       "284989    0.010000\n",
       "285344    0.000000\n",
       "285343    0.000000\n",
       "285340    0.000000\n",
       "285341    0.134167\n",
       "285349    0.000000\n",
       "285348    0.010000\n",
       "284991    0.000000\n",
       "285532    0.080000\n",
       "285406    0.000000\n",
       "285001    0.000000\n",
       "285006    0.000000\n",
       "285405    0.000000\n",
       "285337    0.000000\n",
       "285496    0.000000\n",
       "285497    0.020000\n",
       "285378    0.000000\n",
       "285589    0.000000\n",
       "285585    0.000000\n",
       "285501    0.151667\n",
       "285581    0.290000\n",
       "            ...   \n",
       "376367    0.000000\n",
       "376366    0.160000\n",
       "376362    0.080000\n",
       "376363    0.640000\n",
       "376365    0.000000\n",
       "376364    0.160000\n",
       "376228    0.780000\n",
       "376265    0.007500\n",
       "376286    0.470000\n",
       "376320    0.020000\n",
       "376314    0.000000\n",
       "376327    0.790000\n",
       "376385    0.150000\n",
       "376435    0.870000\n",
       "376370    0.990000\n",
       "376434    0.010000\n",
       "376459    0.000000\n",
       "376478    0.000000\n",
       "376473    0.000000\n",
       "376484    0.050000\n",
       "376482    0.000000\n",
       "376480    0.000000\n",
       "376479    0.000000\n",
       "376481    0.000000\n",
       "376483    0.001429\n",
       "376496    0.000000\n",
       "376497    0.000000\n",
       "376499    0.010000\n",
       "376500    0.010000\n",
       "369851    0.860000\n",
       "dtype: float64"
      ]
     },
     "execution_count": 5,
     "metadata": {},
     "output_type": "execute_result"
    }
   ],
   "source": [
    "def blight_model():\n",
    "    train = pd.read_csv('train.csv', encoding = \"ISO-8859-1\")\n",
    "    train = train[train['compliance'].notnull()]\n",
    "    ## one hot encoding \n",
    "    subset = pd.get_dummies(train.disposition, prefix='disposition')\n",
    "    train = pd.merge(train, subset, left_index=True, right_index=True)\n",
    "\n",
    "    latlons = pd.read_csv('latlons.csv')\n",
    "    addresses = pd.read_csv('addresses.csv')\n",
    "    geo = pd.merge(addresses[['ticket_id', 'address']], latlons[['lat', 'lon', 'address']], how='inner', on='address')\n",
    "\n",
    "    ## merge with geo data\n",
    "    df = pd.merge(train, geo, how = 'inner', on='ticket_id' )\n",
    "    features_label = ['fine_amount', 'admin_fee', 'state_fee', 'late_fee', 'judgment_amount', 'lat', 'lon', 'disposition_Responsible (Fine Waived) by Deter','disposition_Responsible by Admission','disposition_Responsible by Default','disposition_Responsible by Determination','compliance']\n",
    "    features = ['fine_amount', 'admin_fee', 'state_fee', 'late_fee', 'judgment_amount', 'lat', 'lon', 'disposition_Responsible (Fine Waived) by Deter','disposition_Responsible by Admission','disposition_Responsible by Default','disposition_Responsible by Determination']\n",
    "    added_features = ['disposition_Responsible - Compl/Adj by Default', 'disposition_Responsible - Compl/Adj by Determi', 'disposition_Responsible by Dismissal', 'disposition_Responsible (Fine Waived) by Admis']\n",
    "\n",
    "    df = df[features_label]\n",
    "    ## forward fill na lat and lon values \n",
    "    df['lat'] = df['lat'].fillna(method = 'ffill') \n",
    "    df['lon'] = df['lon'].fillna(method = 'ffill') \n",
    "    X = df[features]\n",
    "    for f in added_features:\n",
    "        X[f] = np.zeros(len(X), dtype = 'uint8')\n",
    "    y = df['compliance']\n",
    "    X_train, X_test, y_train, y_test = train_test_split(X, y, random_state = 0)\n",
    "    clf = RandomForestClassifier(n_estimators = 100).fit(X_train, y_train)\n",
    "\n",
    "    df_test = pd.read_csv('test.csv', encoding = \"ISO-8859-1\")\n",
    "    ## testset feature space\n",
    "    features_test = features + added_features\n",
    "    ## one hot encoding\n",
    "    subset_test = pd.get_dummies(df_test.disposition, prefix='disposition') \n",
    "    df_test = pd.merge(df_test, subset_test, left_index=True, right_index=True) \n",
    "    ## merge with geo data\n",
    "    df_test = pd.merge(df_test, geo, how = 'inner', on='ticket_id' )\n",
    "    ## forward fill na lat and lon values\n",
    "    df_test['lat'] = df_test['lat'].fillna(method = 'ffill') \n",
    "    df_test['lon'] = df_test['lon'].fillna(method = 'ffill') \n",
    "\n",
    "    df_test.index = df_test['ticket_id']\n",
    "    X_predict = clf.predict_proba(df_test[features_test])\n",
    "    return pd.Series(data = X_predict[:,1], index = df_test['ticket_id'])\n",
    "\n",
    "blight_model()"
   ]
  },
  {
   "cell_type": "code",
   "execution_count": null,
   "metadata": {
    "collapsed": false
   },
   "outputs": [],
   "source": []
  },
  {
   "cell_type": "code",
   "execution_count": null,
   "metadata": {
    "collapsed": true
   },
   "outputs": [],
   "source": []
  }
 ],
 "metadata": {
  "coursera": {
   "course_slug": "python-machine-learning",
   "graded_item_id": "nNS8l",
   "launcher_item_id": "yWWk7",
   "part_id": "w8BSS"
  },
  "kernelspec": {
   "display_name": "Python 3",
   "language": "python",
   "name": "python3"
  },
  "language_info": {
   "codemirror_mode": {
    "name": "ipython",
    "version": 3
   },
   "file_extension": ".py",
   "mimetype": "text/x-python",
   "name": "python",
   "nbconvert_exporter": "python",
   "pygments_lexer": "ipython3",
   "version": "3.6.2"
  }
 },
 "nbformat": 4,
 "nbformat_minor": 2
}
