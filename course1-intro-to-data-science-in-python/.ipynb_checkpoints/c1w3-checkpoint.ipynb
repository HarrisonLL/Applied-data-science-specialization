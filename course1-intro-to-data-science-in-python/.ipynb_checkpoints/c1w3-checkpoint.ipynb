{
 "cells": [
  {
   "cell_type": "code",
   "execution_count": 2,
   "metadata": {},
   "outputs": [],
   "source": [
    "import pandas as pd\n",
    "import numpy as np\n",
    "import re"
   ]
  },
  {
   "cell_type": "code",
   "execution_count": 9,
   "metadata": {},
   "outputs": [
    {
     "name": "stdout",
     "output_type": "stream",
     "text": [
      "This must not be deleted, but the number at the end yes \n",
      "Example_file_.ext\n"
     ]
    }
   ],
   "source": [
    "## testing re\n",
    "s = \"This must not be deleted, but the number at the end yes 134411\"\n",
    "s = re.sub(\"\\d+\", \"\", s)\n",
    "print(s)\n",
    "\n",
    "filename = \"Example_file_ (extra_descriptor).ext\"\n",
    "s2 = re.sub(r' \\([^)]*\\)', '', filename)\n",
    "print(s2)"
   ]
  },
  {
   "cell_type": "code",
   "execution_count": null,
   "metadata": {},
   "outputs": [],
   "source": []
  }
 ],
 "metadata": {
  "kernelspec": {
   "display_name": "Python 3",
   "language": "python",
   "name": "python3"
  },
  "language_info": {
   "codemirror_mode": {
    "name": "ipython",
    "version": 3
   },
   "file_extension": ".py",
   "mimetype": "text/x-python",
   "name": "python",
   "nbconvert_exporter": "python",
   "pygments_lexer": "ipython3",
   "version": "3.6.8"
  }
 },
 "nbformat": 4,
 "nbformat_minor": 2
}
