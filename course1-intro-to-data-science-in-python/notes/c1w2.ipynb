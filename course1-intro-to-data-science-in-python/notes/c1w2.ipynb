{
 "cells": [
  {
   "cell_type": "code",
   "execution_count": 15,
   "metadata": {},
   "outputs": [],
   "source": [
    "import pandas as pd\n",
    "from pandas import DataFrame as df"
   ]
  },
  {
   "cell_type": "code",
   "execution_count": 9,
   "metadata": {},
   "outputs": [
    {
     "name": "stdout",
     "output_type": "stream",
     "text": [
      "a\n",
      "a\n"
     ]
    }
   ],
   "source": [
    "# Pandas Series \n",
    "## diff between loc and iloc\n",
    "sports = pd.Series({'aa':'a', 'bb':'b', 'cc':'c', 'dd':'d'})\n",
    "print(sports.iloc[0])\n",
    "print(sports.loc['aa'])"
   ]
  },
  {
   "cell_type": "code",
   "execution_count": 12,
   "metadata": {},
   "outputs": [],
   "source": [
    "# adding a new line\n",
    "sports.loc[\"Football\"] = 1"
   ]
  },
  {
   "cell_type": "code",
   "execution_count": 13,
   "metadata": {},
   "outputs": [
    {
     "data": {
      "text/plain": [
       "aa          a\n",
       "bb          b\n",
       "cc          c\n",
       "dd          d\n",
       "Football    1\n",
       "dtype: object"
      ]
     },
     "execution_count": 13,
     "metadata": {},
     "output_type": "execute_result"
    }
   ],
   "source": [
    "sports"
   ]
  },
  {
   "cell_type": "code",
   "execution_count": 18,
   "metadata": {},
   "outputs": [
    {
     "data": {
      "text/html": [
       "<div>\n",
       "<style scoped>\n",
       "    .dataframe tbody tr th:only-of-type {\n",
       "        vertical-align: middle;\n",
       "    }\n",
       "\n",
       "    .dataframe tbody tr th {\n",
       "        vertical-align: top;\n",
       "    }\n",
       "\n",
       "    .dataframe thead th {\n",
       "        text-align: right;\n",
       "    }\n",
       "</style>\n",
       "<table border=\"1\" class=\"dataframe\">\n",
       "  <thead>\n",
       "    <tr style=\"text-align: right;\">\n",
       "      <th></th>\n",
       "      <th>name</th>\n",
       "      <th>purchase</th>\n",
       "      <th>cost</th>\n",
       "    </tr>\n",
       "  </thead>\n",
       "  <tbody>\n",
       "    <tr>\n",
       "      <th>customer1</th>\n",
       "      <td>Harris</td>\n",
       "      <td>book</td>\n",
       "      <td>10</td>\n",
       "    </tr>\n",
       "    <tr>\n",
       "      <th>customer2</th>\n",
       "      <td>John</td>\n",
       "      <td>cup</td>\n",
       "      <td>5</td>\n",
       "    </tr>\n",
       "    <tr>\n",
       "      <th>customer3</th>\n",
       "      <td>Mike</td>\n",
       "      <td>milk</td>\n",
       "      <td>3</td>\n",
       "    </tr>\n",
       "  </tbody>\n",
       "</table>\n",
       "</div>"
      ],
      "text/plain": [
       "             name purchase  cost\n",
       "customer1  Harris     book    10\n",
       "customer2    John      cup     5\n",
       "customer3    Mike     milk     3"
      ]
     },
     "execution_count": 18,
     "metadata": {},
     "output_type": "execute_result"
    }
   ],
   "source": [
    "## Pandas DataFrame\n",
    "line1 = pd.Series({\"name\": \"Harris\", \"purchase\":\"book\", \"cost\": 10})\n",
    "line2 = pd.Series({\"name\": \"John\", \"purchase\":\"cup\", \"cost\":5})\n",
    "line3 = pd.Series({\"name\": \"Mike\", \"purchase\": \"milk\", \"cost\":3})\n",
    "df01 = df([line1, line2, line3], index=[\"customer1\", \"customer2\", \"customer3\"])\n",
    "df01.head()\n"
   ]
  },
  {
   "cell_type": "code",
   "execution_count": 38,
   "metadata": {},
   "outputs": [
    {
     "name": "stdout",
     "output_type": "stream",
     "text": [
      "['Harris', 'book', 10]\n",
      "['Harris', 'John', 'Mike']\n",
      "Harris\n",
      "Harris\n"
     ]
    }
   ],
   "source": [
    "print(df01.loc['customer1'].to_list()) #lock a row\n",
    "print(df01['name'].to_list()) #lock a column\n",
    "print(df01.loc['customer1','name']) # lock a cell way 1\n",
    "print(df01.loc['customer1']['name'])# lock a cell way 2"
   ]
  },
  {
   "cell_type": "code",
   "execution_count": 55,
   "metadata": {},
   "outputs": [
    {
     "data": {
      "text/html": [
       "<div>\n",
       "<style scoped>\n",
       "    .dataframe tbody tr th:only-of-type {\n",
       "        vertical-align: middle;\n",
       "    }\n",
       "\n",
       "    .dataframe tbody tr th {\n",
       "        vertical-align: top;\n",
       "    }\n",
       "\n",
       "    .dataframe thead th {\n",
       "        text-align: right;\n",
       "    }\n",
       "</style>\n",
       "<table border=\"1\" class=\"dataframe\">\n",
       "  <thead>\n",
       "    <tr style=\"text-align: right;\">\n",
       "      <th></th>\n",
       "      <th>name</th>\n",
       "      <th>purchase</th>\n",
       "      <th>cost</th>\n",
       "    </tr>\n",
       "  </thead>\n",
       "  <tbody>\n",
       "    <tr>\n",
       "      <th>customer1</th>\n",
       "      <td>Harris</td>\n",
       "      <td>book</td>\n",
       "      <td>10.0</td>\n",
       "    </tr>\n",
       "    <tr>\n",
       "      <th>customer2</th>\n",
       "      <td>John</td>\n",
       "      <td>cup</td>\n",
       "      <td>5.0</td>\n",
       "    </tr>\n",
       "  </tbody>\n",
       "</table>\n",
       "</div>"
      ],
      "text/plain": [
       "             name purchase  cost\n",
       "customer1  Harris     book  10.0\n",
       "customer2    John      cup   5.0"
      ]
     },
     "execution_count": 55,
     "metadata": {},
     "output_type": "execute_result"
    }
   ],
   "source": [
    "## boolean mask\n",
    "df02 = df01.where((df01[\"cost\"] > 3) & (df01[\"cost\"] < 20))\n",
    "df02.dropna()"
   ]
  },
  {
   "cell_type": "code",
   "execution_count": 56,
   "metadata": {},
   "outputs": [
    {
     "data": {
      "text/plain": [
       "'\\nSet index by using mutiple columns\\ndf.set_index([column1, column2])\\n\\nTo keep a list of columns, 1) set a list of columns, 2) df = df[the list]\\n'"
      ]
     },
     "execution_count": 56,
     "metadata": {},
     "output_type": "execute_result"
    }
   ],
   "source": [
    "'''\n",
    "Set index by using mutiple columns\n",
    "df.set_index([column1, column2])\n",
    "\n",
    "To keep a list of columns, 1) set a list of columns, 2) df = df[the list]\n",
    "'''"
   ]
  },
  {
   "cell_type": "code",
   "execution_count": null,
   "metadata": {},
   "outputs": [],
   "source": []
  },
  {
   "cell_type": "code",
   "execution_count": null,
   "metadata": {},
   "outputs": [],
   "source": [
    "## pandas.series.idxmax() \n",
    "## should passing a series, returns the first occurance of idx of max element"
   ]
  },
  {
   "cell_type": "code",
   "execution_count": null,
   "metadata": {},
   "outputs": [],
   "source": []
  },
  {
   "cell_type": "code",
   "execution_count": null,
   "metadata": {},
   "outputs": [],
   "source": []
  }
 ],
 "metadata": {
  "kernelspec": {
   "display_name": "Python 3",
   "language": "python",
   "name": "python3"
  },
  "language_info": {
   "codemirror_mode": {
    "name": "ipython",
    "version": 3
   },
   "file_extension": ".py",
   "mimetype": "text/x-python",
   "name": "python",
   "nbconvert_exporter": "python",
   "pygments_lexer": "ipython3",
   "version": "3.6.8"
  }
 },
 "nbformat": 4,
 "nbformat_minor": 2
}
